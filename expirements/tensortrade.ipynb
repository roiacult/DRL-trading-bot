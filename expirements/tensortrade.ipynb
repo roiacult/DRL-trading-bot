{
 "cells": [
  {
   "cell_type": "code",
   "execution_count": 2,
   "metadata": {
    "collapsed": true
   },
   "outputs": [],
   "source": [
    "from tensortrade.data.cdd import CryptoDataDownload\n",
    "import mplfinance as mpf\n",
    "import pandas as pd"
   ]
  },
  {
   "cell_type": "code",
   "execution_count": 6,
   "outputs": [
    {
     "data": {
      "text/plain": "                     date           unix          open          high      low  \\\n0     2018-05-15 06:00:00     1526364000   8723.800000   8793.000000   8714.9   \n1     2018-05-15 07:00:00     1526367600   8739.000000   8754.800000   8719.3   \n2     2018-05-15 08:00:00     1526371200   8743.000000   8743.100000   8653.2   \n3     2018-05-15 09:00:00     1526374800   8723.700000   8737.800000   8701.2   \n4     2018-05-15 10:00:00     1526378400   8708.100000   8855.700000   8695.8   \n...                   ...            ...           ...           ...      ...   \n34522 2022-04-24 21:00:00  1650834000000  39526.977727  39670.000000  39505.0   \n34523 2022-04-24 22:00:00  1650837600000  39669.000000  39798.000000  39566.0   \n34524 2022-04-24 23:00:00  1650841200000  39588.000000  39593.585605  39461.0   \n34525 2022-04-25 00:00:00  1650844800000  39473.000000  39526.000000  38706.0   \n34526 2022-04-25 01:00:00  1650848400000  38891.000000  39023.000000  38792.0   \n\n              close        volume  \n0       8739.000000  8.988054e+06  \n1       8743.000000  2.288904e+06  \n2       8723.700000  8.891773e+06  \n3       8708.100000  2.054868e+06  \n4       8784.400000  1.730972e+07  \n...             ...           ...  \n34522  39669.000000  6.064814e+06  \n34523  39588.000000  2.804386e+06  \n34524  39480.581239  2.732270e+06  \n34525  38890.299273  1.581402e+07  \n34526  38947.233442  3.316250e+06  \n\n[34527 rows x 7 columns]",
      "text/html": "<div>\n<style scoped>\n    .dataframe tbody tr th:only-of-type {\n        vertical-align: middle;\n    }\n\n    .dataframe tbody tr th {\n        vertical-align: top;\n    }\n\n    .dataframe thead th {\n        text-align: right;\n    }\n</style>\n<table border=\"1\" class=\"dataframe\">\n  <thead>\n    <tr style=\"text-align: right;\">\n      <th></th>\n      <th>date</th>\n      <th>unix</th>\n      <th>open</th>\n      <th>high</th>\n      <th>low</th>\n      <th>close</th>\n      <th>volume</th>\n    </tr>\n  </thead>\n  <tbody>\n    <tr>\n      <th>0</th>\n      <td>2018-05-15 06:00:00</td>\n      <td>1526364000</td>\n      <td>8723.800000</td>\n      <td>8793.000000</td>\n      <td>8714.9</td>\n      <td>8739.000000</td>\n      <td>8.988054e+06</td>\n    </tr>\n    <tr>\n      <th>1</th>\n      <td>2018-05-15 07:00:00</td>\n      <td>1526367600</td>\n      <td>8739.000000</td>\n      <td>8754.800000</td>\n      <td>8719.3</td>\n      <td>8743.000000</td>\n      <td>2.288904e+06</td>\n    </tr>\n    <tr>\n      <th>2</th>\n      <td>2018-05-15 08:00:00</td>\n      <td>1526371200</td>\n      <td>8743.000000</td>\n      <td>8743.100000</td>\n      <td>8653.2</td>\n      <td>8723.700000</td>\n      <td>8.891773e+06</td>\n    </tr>\n    <tr>\n      <th>3</th>\n      <td>2018-05-15 09:00:00</td>\n      <td>1526374800</td>\n      <td>8723.700000</td>\n      <td>8737.800000</td>\n      <td>8701.2</td>\n      <td>8708.100000</td>\n      <td>2.054868e+06</td>\n    </tr>\n    <tr>\n      <th>4</th>\n      <td>2018-05-15 10:00:00</td>\n      <td>1526378400</td>\n      <td>8708.100000</td>\n      <td>8855.700000</td>\n      <td>8695.8</td>\n      <td>8784.400000</td>\n      <td>1.730972e+07</td>\n    </tr>\n    <tr>\n      <th>...</th>\n      <td>...</td>\n      <td>...</td>\n      <td>...</td>\n      <td>...</td>\n      <td>...</td>\n      <td>...</td>\n      <td>...</td>\n    </tr>\n    <tr>\n      <th>34522</th>\n      <td>2022-04-24 21:00:00</td>\n      <td>1650834000000</td>\n      <td>39526.977727</td>\n      <td>39670.000000</td>\n      <td>39505.0</td>\n      <td>39669.000000</td>\n      <td>6.064814e+06</td>\n    </tr>\n    <tr>\n      <th>34523</th>\n      <td>2022-04-24 22:00:00</td>\n      <td>1650837600000</td>\n      <td>39669.000000</td>\n      <td>39798.000000</td>\n      <td>39566.0</td>\n      <td>39588.000000</td>\n      <td>2.804386e+06</td>\n    </tr>\n    <tr>\n      <th>34524</th>\n      <td>2022-04-24 23:00:00</td>\n      <td>1650841200000</td>\n      <td>39588.000000</td>\n      <td>39593.585605</td>\n      <td>39461.0</td>\n      <td>39480.581239</td>\n      <td>2.732270e+06</td>\n    </tr>\n    <tr>\n      <th>34525</th>\n      <td>2022-04-25 00:00:00</td>\n      <td>1650844800000</td>\n      <td>39473.000000</td>\n      <td>39526.000000</td>\n      <td>38706.0</td>\n      <td>38890.299273</td>\n      <td>1.581402e+07</td>\n    </tr>\n    <tr>\n      <th>34526</th>\n      <td>2022-04-25 01:00:00</td>\n      <td>1650848400000</td>\n      <td>38891.000000</td>\n      <td>39023.000000</td>\n      <td>38792.0</td>\n      <td>38947.233442</td>\n      <td>3.316250e+06</td>\n    </tr>\n  </tbody>\n</table>\n<p>34527 rows × 7 columns</p>\n</div>"
     },
     "execution_count": 6,
     "metadata": {},
     "output_type": "execute_result"
    }
   ],
   "source": [
    "cdd = CryptoDataDownload()\n",
    "\n",
    "cdd.fetch(\"Bitfinex\", \"USD\", \"BTC\", \"1h\")"
   ],
   "metadata": {
    "collapsed": false,
    "pycharm": {
     "name": "#%%\n"
    }
   }
  }
 ],
 "metadata": {
  "kernelspec": {
   "display_name": "Python 3",
   "language": "python",
   "name": "python3"
  },
  "language_info": {
   "codemirror_mode": {
    "name": "ipython",
    "version": 2
   },
   "file_extension": ".py",
   "mimetype": "text/x-python",
   "name": "python",
   "nbconvert_exporter": "python",
   "pygments_lexer": "ipython2",
   "version": "2.7.6"
  }
 },
 "nbformat": 4,
 "nbformat_minor": 0
}