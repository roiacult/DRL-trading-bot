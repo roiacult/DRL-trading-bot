{
 "cells": [
  {
   "cell_type": "markdown",
   "source": [
    "## install dependencies"
   ],
   "metadata": {
    "collapsed": false,
    "pycharm": {
     "name": "#%% md\n"
    }
   }
  },
  {
   "cell_type": "code",
   "execution_count": 3,
   "outputs": [
    {
     "name": "stdout",
     "output_type": "stream",
     "text": [
      "Requirement already satisfied: pandas in /home/roacult/anaconda3/envs/stock-venv/lib/python3.7/site-packages (1.2.3)\r\n",
      "Requirement already satisfied: python-dateutil>=2.7.3 in /home/roacult/anaconda3/envs/stock-venv/lib/python3.7/site-packages (from pandas) (2.8.2)\r\n",
      "Requirement already satisfied: pytz>=2017.3 in /home/roacult/anaconda3/envs/stock-venv/lib/python3.7/site-packages (from pandas) (2022.1)\r\n",
      "Requirement already satisfied: numpy>=1.16.5 in /home/roacult/anaconda3/envs/stock-venv/lib/python3.7/site-packages (from pandas) (1.21.5)\r\n",
      "Requirement already satisfied: six>=1.5 in /home/roacult/anaconda3/envs/stock-venv/lib/python3.7/site-packages (from python-dateutil>=2.7.3->pandas) (1.16.0)\r\n",
      "Requirement already satisfied: pystan==2.19.1.1 in /home/roacult/anaconda3/envs/stock-venv/lib/python3.7/site-packages (2.19.1.1)\r\n",
      "Requirement already satisfied: numpy>=1.7 in /home/roacult/anaconda3/envs/stock-venv/lib/python3.7/site-packages (from pystan==2.19.1.1) (1.21.5)\r\n",
      "Requirement already satisfied: Cython!=0.25.1,>=0.22 in /home/roacult/anaconda3/envs/stock-venv/lib/python3.7/site-packages (from pystan==2.19.1.1) (0.29.29)\r\n",
      "Requirement already satisfied: prophet in /home/roacult/anaconda3/envs/stock-venv/lib/python3.7/site-packages (1.0.1)\r\n",
      "Requirement already satisfied: convertdate>=2.1.2 in /home/roacult/anaconda3/envs/stock-venv/lib/python3.7/site-packages (from prophet) (2.4.0)\r\n",
      "Requirement already satisfied: holidays>=0.10.2 in /home/roacult/anaconda3/envs/stock-venv/lib/python3.7/site-packages (from prophet) (0.13)\r\n",
      "Requirement already satisfied: pystan~=2.19.1.1 in /home/roacult/anaconda3/envs/stock-venv/lib/python3.7/site-packages (from prophet) (2.19.1.1)\r\n",
      "Requirement already satisfied: LunarCalendar>=0.0.9 in /home/roacult/anaconda3/envs/stock-venv/lib/python3.7/site-packages (from prophet) (0.0.9)\r\n",
      "Requirement already satisfied: matplotlib>=2.0.0 in /home/roacult/anaconda3/envs/stock-venv/lib/python3.7/site-packages (from prophet) (3.5.1)\r\n",
      "Requirement already satisfied: tqdm>=4.36.1 in /home/roacult/anaconda3/envs/stock-venv/lib/python3.7/site-packages (from prophet) (4.64.0)\r\n",
      "Requirement already satisfied: cmdstanpy==0.9.68 in /home/roacult/anaconda3/envs/stock-venv/lib/python3.7/site-packages (from prophet) (0.9.68)\r\n",
      "Requirement already satisfied: python-dateutil>=2.8.0 in /home/roacult/anaconda3/envs/stock-venv/lib/python3.7/site-packages (from prophet) (2.8.2)\r\n",
      "Requirement already satisfied: pandas>=1.0.4 in /home/roacult/anaconda3/envs/stock-venv/lib/python3.7/site-packages (from prophet) (1.2.3)\r\n",
      "Requirement already satisfied: Cython>=0.22 in /home/roacult/anaconda3/envs/stock-venv/lib/python3.7/site-packages (from prophet) (0.29.29)\r\n",
      "Requirement already satisfied: numpy>=1.15.4 in /home/roacult/anaconda3/envs/stock-venv/lib/python3.7/site-packages (from prophet) (1.21.5)\r\n",
      "Requirement already satisfied: setuptools-git>=1.2 in /home/roacult/anaconda3/envs/stock-venv/lib/python3.7/site-packages (from prophet) (1.2)\r\n",
      "Requirement already satisfied: ujson in /home/roacult/anaconda3/envs/stock-venv/lib/python3.7/site-packages (from cmdstanpy==0.9.68->prophet) (5.2.0)\r\n",
      "Requirement already satisfied: pymeeus<=1,>=0.3.13 in /home/roacult/anaconda3/envs/stock-venv/lib/python3.7/site-packages (from convertdate>=2.1.2->prophet) (0.5.11)\r\n",
      "Requirement already satisfied: hijri-converter in /home/roacult/anaconda3/envs/stock-venv/lib/python3.7/site-packages (from holidays>=0.10.2->prophet) (2.2.3)\r\n",
      "Requirement already satisfied: korean-lunar-calendar in /home/roacult/anaconda3/envs/stock-venv/lib/python3.7/site-packages (from holidays>=0.10.2->prophet) (0.2.1)\r\n",
      "Requirement already satisfied: ephem>=3.7.5.3 in /home/roacult/anaconda3/envs/stock-venv/lib/python3.7/site-packages (from LunarCalendar>=0.0.9->prophet) (4.1.3)\r\n",
      "Requirement already satisfied: pytz in /home/roacult/anaconda3/envs/stock-venv/lib/python3.7/site-packages (from LunarCalendar>=0.0.9->prophet) (2022.1)\r\n",
      "Requirement already satisfied: packaging>=20.0 in /home/roacult/anaconda3/envs/stock-venv/lib/python3.7/site-packages (from matplotlib>=2.0.0->prophet) (21.3)\r\n",
      "Requirement already satisfied: pillow>=6.2.0 in /home/roacult/anaconda3/envs/stock-venv/lib/python3.7/site-packages (from matplotlib>=2.0.0->prophet) (9.1.0)\r\n",
      "Requirement already satisfied: pyparsing>=2.2.1 in /home/roacult/anaconda3/envs/stock-venv/lib/python3.7/site-packages (from matplotlib>=2.0.0->prophet) (3.0.7)\r\n",
      "Requirement already satisfied: fonttools>=4.22.0 in /home/roacult/anaconda3/envs/stock-venv/lib/python3.7/site-packages (from matplotlib>=2.0.0->prophet) (4.31.2)\r\n",
      "Requirement already satisfied: cycler>=0.10 in /home/roacult/anaconda3/envs/stock-venv/lib/python3.7/site-packages (from matplotlib>=2.0.0->prophet) (0.11.0)\r\n",
      "Requirement already satisfied: kiwisolver>=1.0.1 in /home/roacult/anaconda3/envs/stock-venv/lib/python3.7/site-packages (from matplotlib>=2.0.0->prophet) (1.4.2)\r\n",
      "Requirement already satisfied: typing-extensions in /home/roacult/anaconda3/envs/stock-venv/lib/python3.7/site-packages (from kiwisolver>=1.0.1->matplotlib>=2.0.0->prophet) (4.1.1)\r\n",
      "Requirement already satisfied: six>=1.5 in /home/roacult/anaconda3/envs/stock-venv/lib/python3.7/site-packages (from python-dateutil>=2.8.0->prophet) (1.16.0)\r\n"
     ]
    }
   ],
   "source": [
    "!pip install pandas\n",
    "!pip install pystan==2.19.1.1\n",
    "!pip install prophet"
   ],
   "metadata": {
    "collapsed": false,
    "pycharm": {
     "name": "#%%\n"
    }
   }
  },
  {
   "cell_type": "markdown",
   "source": [
    " ## Import dependencies"
   ],
   "metadata": {
    "collapsed": false
   }
  },
  {
   "cell_type": "code",
   "execution_count": 1,
   "outputs": [
    {
     "ename": "ModuleNotFoundError",
     "evalue": "No module named 'matplotlib.pyplot'",
     "output_type": "error",
     "traceback": [
      "\u001B[0;31m---------------------------------------------------------------------------\u001B[0m",
      "\u001B[0;31mModuleNotFoundError\u001B[0m                       Traceback (most recent call last)",
      "\u001B[0;32m/tmp/ipykernel_1138787/1180493674.py\u001B[0m in \u001B[0;36m<module>\u001B[0;34m\u001B[0m\n\u001B[1;32m      1\u001B[0m \u001B[0;32mimport\u001B[0m \u001B[0mpandas\u001B[0m \u001B[0;32mas\u001B[0m \u001B[0mpd\u001B[0m\u001B[0;34m\u001B[0m\u001B[0;34m\u001B[0m\u001B[0m\n\u001B[1;32m      2\u001B[0m \u001B[0;31m# from prophet import Prophet\u001B[0m\u001B[0;34m\u001B[0m\u001B[0;34m\u001B[0m\u001B[0;34m\u001B[0m\u001B[0m\n\u001B[0;32m----> 3\u001B[0;31m \u001B[0;32mimport\u001B[0m \u001B[0mmatplotlib\u001B[0m\u001B[0;34m.\u001B[0m\u001B[0mpyplot\u001B[0m \u001B[0;32mas\u001B[0m \u001B[0mplt\u001B[0m\u001B[0;34m\u001B[0m\u001B[0;34m\u001B[0m\u001B[0m\n\u001B[0m",
      "\u001B[0;31mModuleNotFoundError\u001B[0m: No module named 'matplotlib.pyplot'"
     ]
    }
   ],
   "source": [
    "import pandas as pd\n",
    "# from prophet import Prophet\n",
    "import matplotlib.pyplot as plt"
   ],
   "metadata": {
    "collapsed": false,
    "pycharm": {
     "name": "#%%\n"
    }
   }
  },
  {
   "cell_type": "markdown",
   "source": [
    "## Load and prepare dataframes"
   ],
   "metadata": {
    "collapsed": false,
    "pycharm": {
     "name": "#%% md\n"
    }
   }
  },
  {
   "cell_type": "code",
   "source": [
    "df_btc = pd.read_csv(\"/opt/dev/trading/pfe/DRL-trading-bot/dataset/binance-ZILUSDT-1h.csv\")\n",
    "df = df_btc[['Date', 'Close']].copy()\n",
    "\n",
    "df.rename(columns={'Date': 'ds', 'Close': 'y'}, inplace=True)"
   ],
   "metadata": {
    "collapsed": false,
    "pycharm": {
     "name": "#%%\n"
    }
   },
   "execution_count": 14,
   "outputs": [
    {
     "ename": "AttributeError",
     "evalue": "module 'pandas' has no attribute 'read_csv'",
     "output_type": "error",
     "traceback": [
      "\u001B[0;31m---------------------------------------------------------------------------\u001B[0m",
      "\u001B[0;31mAttributeError\u001B[0m                            Traceback (most recent call last)",
      "\u001B[0;32m/tmp/ipykernel_993402/2907041673.py\u001B[0m in \u001B[0;36m<module>\u001B[0;34m\u001B[0m\n\u001B[0;32m----> 1\u001B[0;31m \u001B[0mdf_btc\u001B[0m \u001B[0;34m=\u001B[0m \u001B[0mpd\u001B[0m\u001B[0;34m.\u001B[0m\u001B[0mread_csv\u001B[0m\u001B[0;34m(\u001B[0m\u001B[0;34m\"/opt/dev/trading/pfe/DRL-trading-bot/dataset/binance-ZILUSDT-1h.csv\"\u001B[0m\u001B[0;34m)\u001B[0m\u001B[0;34m\u001B[0m\u001B[0;34m\u001B[0m\u001B[0m\n\u001B[0m\u001B[1;32m      2\u001B[0m \u001B[0mdf\u001B[0m \u001B[0;34m=\u001B[0m \u001B[0mdf_btc\u001B[0m\u001B[0;34m[\u001B[0m\u001B[0;34m[\u001B[0m\u001B[0;34m'Date'\u001B[0m\u001B[0;34m,\u001B[0m \u001B[0;34m'Close'\u001B[0m\u001B[0;34m]\u001B[0m\u001B[0;34m]\u001B[0m\u001B[0;34m.\u001B[0m\u001B[0mcopy\u001B[0m\u001B[0;34m(\u001B[0m\u001B[0;34m)\u001B[0m\u001B[0;34m\u001B[0m\u001B[0;34m\u001B[0m\u001B[0m\n\u001B[1;32m      3\u001B[0m \u001B[0;34m\u001B[0m\u001B[0m\n\u001B[1;32m      4\u001B[0m \u001B[0mdf\u001B[0m\u001B[0;34m.\u001B[0m\u001B[0mrename\u001B[0m\u001B[0;34m(\u001B[0m\u001B[0mcolumns\u001B[0m\u001B[0;34m=\u001B[0m\u001B[0;34m{\u001B[0m\u001B[0;34m'Date'\u001B[0m\u001B[0;34m:\u001B[0m \u001B[0;34m'ds'\u001B[0m\u001B[0;34m,\u001B[0m \u001B[0;34m'Close'\u001B[0m\u001B[0;34m:\u001B[0m \u001B[0;34m'y'\u001B[0m\u001B[0;34m}\u001B[0m\u001B[0;34m,\u001B[0m \u001B[0minplace\u001B[0m\u001B[0;34m=\u001B[0m\u001B[0;32mTrue\u001B[0m\u001B[0;34m)\u001B[0m\u001B[0;34m\u001B[0m\u001B[0;34m\u001B[0m\u001B[0m\n",
      "\u001B[0;31mAttributeError\u001B[0m: module 'pandas' has no attribute 'read_csv'"
     ]
    }
   ]
  },
  {
   "cell_type": "code",
   "execution_count": 16,
   "outputs": [
    {
     "data": {
      "text/plain": "0        2017-08-17 04:00:00.000000000\n1        2017-08-17 05:00:00.000000000\n2        2017-08-17 06:00:00.000000000\n3        2017-08-17 07:00:00.000000000\n4        2017-08-17 08:00:00.000000000\n                     ...              \n38218              2021-12-31 20:00:00\n38219              2021-12-31 21:00:00\n38220              2021-12-31 22:00:00\n38221              2021-12-31 23:00:00\n38222              2022-01-01 00:00:00\nName: ds, Length: 38223, dtype: object"
     },
     "execution_count": 16,
     "metadata": {},
     "output_type": "execute_result"
    }
   ],
   "source": [
    "df['ds']"
   ],
   "metadata": {
    "collapsed": false,
    "pycharm": {
     "name": "#%%\n"
    }
   }
  },
  {
   "cell_type": "markdown",
   "source": [
    "## fit model"
   ],
   "metadata": {
    "collapsed": false,
    "pycharm": {
     "name": "#%% md\n"
    }
   }
  },
  {
   "cell_type": "code",
   "execution_count": 4,
   "outputs": [],
   "source": [
    "MARGIN = 3822\n",
    "WINDOW_SIZE = 10"
   ],
   "metadata": {
    "collapsed": false,
    "pycharm": {
     "name": "#%%\n"
    }
   }
  },
  {
   "cell_type": "code",
   "execution_count": 5,
   "outputs": [
    {
     "data": {
      "text/plain": "                                 ds         y\n0     2017-08-17 04:00:00.000000000   4308.83\n1     2017-08-17 05:00:00.000000000   4315.32\n2     2017-08-17 06:00:00.000000000   4324.35\n3     2017-08-17 07:00:00.000000000   4349.99\n4     2017-08-17 08:00:00.000000000   4360.69\n...                             ...       ...\n3818  2018-01-23 14:00:00.000000000  10459.55\n3819  2018-01-23 15:00:00.000000000  10750.00\n3820  2018-01-23 16:00:00.000000000  11334.96\n3821  2018-01-23 17:00:00.000000000  11129.62\n3822  2018-01-23 18:00:00.000000000  11200.00\n\n[3823 rows x 2 columns]",
      "text/html": "<div>\n<style scoped>\n    .dataframe tbody tr th:only-of-type {\n        vertical-align: middle;\n    }\n\n    .dataframe tbody tr th {\n        vertical-align: top;\n    }\n\n    .dataframe thead th {\n        text-align: right;\n    }\n</style>\n<table border=\"1\" class=\"dataframe\">\n  <thead>\n    <tr style=\"text-align: right;\">\n      <th></th>\n      <th>ds</th>\n      <th>y</th>\n    </tr>\n  </thead>\n  <tbody>\n    <tr>\n      <th>0</th>\n      <td>2017-08-17 04:00:00.000000000</td>\n      <td>4308.83</td>\n    </tr>\n    <tr>\n      <th>1</th>\n      <td>2017-08-17 05:00:00.000000000</td>\n      <td>4315.32</td>\n    </tr>\n    <tr>\n      <th>2</th>\n      <td>2017-08-17 06:00:00.000000000</td>\n      <td>4324.35</td>\n    </tr>\n    <tr>\n      <th>3</th>\n      <td>2017-08-17 07:00:00.000000000</td>\n      <td>4349.99</td>\n    </tr>\n    <tr>\n      <th>4</th>\n      <td>2017-08-17 08:00:00.000000000</td>\n      <td>4360.69</td>\n    </tr>\n    <tr>\n      <th>...</th>\n      <td>...</td>\n      <td>...</td>\n    </tr>\n    <tr>\n      <th>3818</th>\n      <td>2018-01-23 14:00:00.000000000</td>\n      <td>10459.55</td>\n    </tr>\n    <tr>\n      <th>3819</th>\n      <td>2018-01-23 15:00:00.000000000</td>\n      <td>10750.00</td>\n    </tr>\n    <tr>\n      <th>3820</th>\n      <td>2018-01-23 16:00:00.000000000</td>\n      <td>11334.96</td>\n    </tr>\n    <tr>\n      <th>3821</th>\n      <td>2018-01-23 17:00:00.000000000</td>\n      <td>11129.62</td>\n    </tr>\n    <tr>\n      <th>3822</th>\n      <td>2018-01-23 18:00:00.000000000</td>\n      <td>11200.00</td>\n    </tr>\n  </tbody>\n</table>\n<p>3823 rows × 2 columns</p>\n</div>"
     },
     "execution_count": 5,
     "metadata": {},
     "output_type": "execute_result"
    }
   ],
   "source": [
    "df.loc[:MARGIN]"
   ],
   "metadata": {
    "collapsed": false,
    "pycharm": {
     "name": "#%%\n"
    }
   }
  },
  {
   "cell_type": "code",
   "execution_count": 25,
   "outputs": [
    {
     "name": "stderr",
     "output_type": "stream",
     "text": [
      "INFO:prophet:Disabling yearly seasonality. Run prophet with yearly_seasonality=True to override this.\n"
     ]
    },
    {
     "name": "stdout",
     "output_type": "stream",
     "text": [
      "predicted future frame ============\n"
     ]
    },
    {
     "data": {
      "text/plain": "                      ds\n0    2017-08-17 04:00:00\n1    2017-08-17 05:00:00\n2    2017-08-17 06:00:00\n3    2017-08-17 07:00:00\n4    2017-08-17 08:00:00\n...                  ...\n3828 2018-01-29 18:00:00\n3829 2018-01-30 18:00:00\n3830 2018-01-31 18:00:00\n3831 2018-02-01 18:00:00\n3832 2018-02-02 18:00:00\n\n[3833 rows x 1 columns]",
      "text/html": "<div>\n<style scoped>\n    .dataframe tbody tr th:only-of-type {\n        vertical-align: middle;\n    }\n\n    .dataframe tbody tr th {\n        vertical-align: top;\n    }\n\n    .dataframe thead th {\n        text-align: right;\n    }\n</style>\n<table border=\"1\" class=\"dataframe\">\n  <thead>\n    <tr style=\"text-align: right;\">\n      <th></th>\n      <th>ds</th>\n    </tr>\n  </thead>\n  <tbody>\n    <tr>\n      <th>0</th>\n      <td>2017-08-17 04:00:00</td>\n    </tr>\n    <tr>\n      <th>1</th>\n      <td>2017-08-17 05:00:00</td>\n    </tr>\n    <tr>\n      <th>2</th>\n      <td>2017-08-17 06:00:00</td>\n    </tr>\n    <tr>\n      <th>3</th>\n      <td>2017-08-17 07:00:00</td>\n    </tr>\n    <tr>\n      <th>4</th>\n      <td>2017-08-17 08:00:00</td>\n    </tr>\n    <tr>\n      <th>...</th>\n      <td>...</td>\n    </tr>\n    <tr>\n      <th>3828</th>\n      <td>2018-01-29 18:00:00</td>\n    </tr>\n    <tr>\n      <th>3829</th>\n      <td>2018-01-30 18:00:00</td>\n    </tr>\n    <tr>\n      <th>3830</th>\n      <td>2018-01-31 18:00:00</td>\n    </tr>\n    <tr>\n      <th>3831</th>\n      <td>2018-02-01 18:00:00</td>\n    </tr>\n    <tr>\n      <th>3832</th>\n      <td>2018-02-02 18:00:00</td>\n    </tr>\n  </tbody>\n</table>\n<p>3833 rows × 1 columns</p>\n</div>"
     },
     "metadata": {},
     "output_type": "display_data"
    },
    {
     "name": "stdout",
     "output_type": "stream",
     "text": [
      "Initial log joint probability = -46.7026\n",
      "    Iter      log prob        ||dx||      ||grad||       alpha      alpha0  # evals  Notes \n",
      "      99       9606.04     0.0677539       2549.03           1           1      117   \n",
      "    Iter      log prob        ||dx||      ||grad||       alpha      alpha0  # evals  Notes \n",
      "     199       9898.46     0.0149572       1985.18      0.4649      0.4649      223   \n",
      "    Iter      log prob        ||dx||      ||grad||       alpha      alpha0  # evals  Notes \n",
      "     299        9984.4      0.092372       1941.83           1           1      343   \n",
      "    Iter      log prob        ||dx||      ||grad||       alpha      alpha0  # evals  Notes \n",
      "     399         10043     0.0495599       1785.56           1           1      459   \n",
      "    Iter      log prob        ||dx||      ||grad||       alpha      alpha0  # evals  Notes \n",
      "     499       10072.5     0.0021052       316.601      0.9951      0.9951      577   \n",
      "    Iter      log prob        ||dx||      ||grad||       alpha      alpha0  # evals  Notes \n",
      "     599       10090.1     0.0295412       615.829           1           1      696   \n",
      "    Iter      log prob        ||dx||      ||grad||       alpha      alpha0  # evals  Notes \n",
      "     699       10111.4    0.00377518       240.191           1           1      819   \n",
      "    Iter      log prob        ||dx||      ||grad||       alpha      alpha0  # evals  Notes \n",
      "     786       10117.2   5.12357e-05       126.102   1.338e-07       0.001      965  LS failed, Hessian reset \n",
      "     799       10117.4   0.000212782       285.093        0.33           1      983   \n",
      "    Iter      log prob        ||dx||      ||grad||       alpha      alpha0  # evals  Notes \n",
      "     899       10135.9    0.00562524       436.232           1           1     1097   \n",
      "    Iter      log prob        ||dx||      ||grad||       alpha      alpha0  # evals  Notes \n",
      "     999       10146.9   0.000427471       149.036      0.9941      0.9941     1216   \n",
      "    Iter      log prob        ||dx||      ||grad||       alpha      alpha0  # evals  Notes \n",
      "    1065       10148.7   3.72547e-05       128.101   1.471e-07       0.001     1340  LS failed, Hessian reset \n",
      "    1099       10149.2   0.000146976       83.2856           1           1     1382   \n",
      "    Iter      log prob        ||dx||      ||grad||       alpha      alpha0  # evals  Notes \n",
      "    1199       10150.6   6.11058e-05       165.824   9.262e-07       0.001     1545  LS failed, Hessian reset \n",
      "    Iter      log prob        ||dx||      ||grad||       alpha      alpha0  # evals  Notes \n",
      "    1299       10153.1    0.00579521       162.919      0.4995      0.4995     1667   \n",
      "    Iter      log prob        ||dx||      ||grad||       alpha      alpha0  # evals  Notes \n",
      "    1399       10155.3   0.000109649       68.4263       0.312       0.312     1809   \n",
      "    Iter      log prob        ||dx||      ||grad||       alpha      alpha0  # evals  Notes \n",
      "    1410       10155.3   3.95716e-05       150.079   2.323e-07       0.001     1871  LS failed, Hessian reset \n",
      "    1499       10156.2    0.00115542       270.515           1           1     1985   \n",
      "    Iter      log prob        ||dx||      ||grad||       alpha      alpha0  # evals  Notes \n",
      "    1599       10166.8    0.00331109       379.661       0.723       0.723     2102   \n",
      "    Iter      log prob        ||dx||      ||grad||       alpha      alpha0  # evals  Notes \n",
      "    1686       10169.4   2.42907e-05       94.4122   3.178e-07       0.001     2249  LS failed, Hessian reset \n",
      "    1699       10169.6   0.000247063       184.396     0.03608           1     2264   \n",
      "    Iter      log prob        ||dx||      ||grad||       alpha      alpha0  # evals  Notes \n",
      "    1752       10169.9   3.07306e-05       100.347   3.995e-07       0.001     2378  LS failed, Hessian reset \n",
      "    1799       10170.2     0.0163862       217.015      0.3846           1     2435   \n",
      "    Iter      log prob        ||dx||      ||grad||       alpha      alpha0  # evals  Notes \n",
      "    1807       10170.2   3.20354e-05       129.951   1.647e-07       0.001     2503  LS failed, Hessian reset \n",
      "    1869       10170.7   5.73401e-05       143.372   6.892e-07       0.001     2627  LS failed, Hessian reset \n",
      "    1899       10170.7   1.42014e-06       46.4002      0.6589      0.6589     2669   \n",
      "    Iter      log prob        ||dx||      ||grad||       alpha      alpha0  # evals  Notes \n",
      "    1910       10170.7    2.4362e-05       74.1359   1.205e-07       0.001     2723  LS failed, Hessian reset \n",
      "    1931       10170.7   5.94499e-07       53.3065     0.08463           1     2756   \n",
      "Optimization terminated normally: \n",
      "  Convergence detected: relative gradient magnitude is below tolerance\n",
      "future frame ============\n"
     ]
    }
   ],
   "source": [
    "model = Prophet()\n",
    "\n",
    "# initial fit\n",
    "model.fit(df.loc[:MARGIN])\n",
    "\n",
    "# Make prediction and fitting model with correct result\n",
    "predict_steps = 1\n",
    "initial_step = MARGIN\n",
    "\n",
    "for i in range(predict_steps):\n",
    "    future_df = model.make_future_dataframe(periods=WINDOW_SIZE)\n",
    "\n",
    "    print('predicted future frame ============')\n",
    "    display(future_df)\n",
    "\n",
    "    print('future frame ============')\n",
    "    # display(df.loc[i+MARGIN:i+MARGIN+WINDOW_SIZE])\n",
    "\n",
    "    # model.fit(df.loc[i+MARGIN])\n"
   ],
   "metadata": {
    "collapsed": false,
    "pycharm": {
     "name": "#%%\n"
    }
   }
  },
  {
   "cell_type": "markdown",
   "source": [
    "## test predictions"
   ],
   "metadata": {
    "collapsed": false,
    "pycharm": {
     "name": "#%% md\n"
    }
   }
  },
  {
   "cell_type": "code",
   "execution_count": 6,
   "outputs": [
    {
     "name": "stderr",
     "output_type": "stream",
     "text": [
      "INFO:prophet:Disabling yearly seasonality. Run prophet with yearly_seasonality=True to override this.\n"
     ]
    },
    {
     "name": "stdout",
     "output_type": "stream",
     "text": [
      "Initial log joint probability = -46.7026\n",
      "    Iter      log prob        ||dx||      ||grad||       alpha      alpha0  # evals  Notes \n",
      "      99       9606.04     0.0677539       2549.03           1           1      117   \n",
      "    Iter      log prob        ||dx||      ||grad||       alpha      alpha0  # evals  Notes \n",
      "     199       9898.46     0.0149572       1985.18      0.4649      0.4649      223   \n",
      "    Iter      log prob        ||dx||      ||grad||       alpha      alpha0  # evals  Notes \n",
      "     299        9984.4      0.092372       1941.83           1           1      343   \n",
      "    Iter      log prob        ||dx||      ||grad||       alpha      alpha0  # evals  Notes \n",
      "     399         10043     0.0495599       1785.56           1           1      459   \n",
      "    Iter      log prob        ||dx||      ||grad||       alpha      alpha0  # evals  Notes \n",
      "     499       10072.5     0.0021052       316.601      0.9951      0.9951      577   \n",
      "    Iter      log prob        ||dx||      ||grad||       alpha      alpha0  # evals  Notes \n",
      "     599       10090.1     0.0295412       615.829           1           1      696   \n",
      "    Iter      log prob        ||dx||      ||grad||       alpha      alpha0  # evals  Notes \n",
      "     699       10111.4    0.00377518       240.191           1           1      819   \n",
      "    Iter      log prob        ||dx||      ||grad||       alpha      alpha0  # evals  Notes \n",
      "     786       10117.2   5.12357e-05       126.102   1.338e-07       0.001      965  LS failed, Hessian reset \n",
      "     799       10117.4   0.000212782       285.093        0.33           1      983   \n",
      "    Iter      log prob        ||dx||      ||grad||       alpha      alpha0  # evals  Notes \n",
      "     899       10135.9    0.00562524       436.232           1           1     1097   \n",
      "    Iter      log prob        ||dx||      ||grad||       alpha      alpha0  # evals  Notes \n",
      "     999       10146.9   0.000427471       149.036      0.9941      0.9941     1216   \n",
      "    Iter      log prob        ||dx||      ||grad||       alpha      alpha0  # evals  Notes \n",
      "    1065       10148.7   3.72547e-05       128.101   1.471e-07       0.001     1340  LS failed, Hessian reset \n",
      "    1099       10149.2   0.000146976       83.2856           1           1     1382   \n",
      "    Iter      log prob        ||dx||      ||grad||       alpha      alpha0  # evals  Notes \n",
      "    1199       10150.6   6.11058e-05       165.824   9.262e-07       0.001     1545  LS failed, Hessian reset \n",
      "    Iter      log prob        ||dx||      ||grad||       alpha      alpha0  # evals  Notes \n",
      "    1299       10153.1    0.00579521       162.919      0.4995      0.4995     1667   \n",
      "    Iter      log prob        ||dx||      ||grad||       alpha      alpha0  # evals  Notes \n",
      "    1399       10155.3   0.000109649       68.4263       0.312       0.312     1809   \n",
      "    Iter      log prob        ||dx||      ||grad||       alpha      alpha0  # evals  Notes \n",
      "    1410       10155.3   3.95716e-05       150.079   2.323e-07       0.001     1871  LS failed, Hessian reset \n",
      "    1499       10156.2    0.00115542       270.515           1           1     1985   \n",
      "    Iter      log prob        ||dx||      ||grad||       alpha      alpha0  # evals  Notes \n",
      "    1599       10166.8    0.00331109       379.661       0.723       0.723     2102   \n",
      "    Iter      log prob        ||dx||      ||grad||       alpha      alpha0  # evals  Notes \n",
      "    1686       10169.4   2.42907e-05       94.4122   3.178e-07       0.001     2249  LS failed, Hessian reset \n",
      "    1699       10169.6   0.000247063       184.396     0.03608           1     2264   \n",
      "    Iter      log prob        ||dx||      ||grad||       alpha      alpha0  # evals  Notes \n",
      "    1752       10169.9   3.07306e-05       100.347   3.995e-07       0.001     2378  LS failed, Hessian reset \n",
      "    1799       10170.2     0.0163862       217.015      0.3846           1     2435   \n",
      "    Iter      log prob        ||dx||      ||grad||       alpha      alpha0  # evals  Notes \n",
      "    1807       10170.2   3.20354e-05       129.951   1.647e-07       0.001     2503  LS failed, Hessian reset \n",
      "    1869       10170.7   5.73401e-05       143.372   6.892e-07       0.001     2627  LS failed, Hessian reset \n",
      "    1899       10170.7   1.42014e-06       46.4002      0.6589      0.6589     2669   \n",
      "    Iter      log prob        ||dx||      ||grad||       alpha      alpha0  # evals  Notes \n",
      "    1910       10170.7    2.4362e-05       74.1359   1.205e-07       0.001     2723  LS failed, Hessian reset \n",
      "    1931       10170.7   5.94499e-07       53.3065     0.08463           1     2756   \n",
      "Optimization terminated normally: \n",
      "  Convergence detected: relative gradient magnitude is below tolerance\n"
     ]
    },
    {
     "data": {
      "text/plain": "                                 ds         y\n0     2017-08-17 04:00:00.000000000   4308.83\n1     2017-08-17 05:00:00.000000000   4315.32\n2     2017-08-17 06:00:00.000000000   4324.35\n3     2017-08-17 07:00:00.000000000   4349.99\n4     2017-08-17 08:00:00.000000000   4360.69\n...                             ...       ...\n3818  2018-01-23 14:00:00.000000000  10459.55\n3819  2018-01-23 15:00:00.000000000  10750.00\n3820  2018-01-23 16:00:00.000000000  11334.96\n3821  2018-01-23 17:00:00.000000000  11129.62\n3822  2018-01-23 18:00:00.000000000  11200.00\n\n[3823 rows x 2 columns]",
      "text/html": "<div>\n<style scoped>\n    .dataframe tbody tr th:only-of-type {\n        vertical-align: middle;\n    }\n\n    .dataframe tbody tr th {\n        vertical-align: top;\n    }\n\n    .dataframe thead th {\n        text-align: right;\n    }\n</style>\n<table border=\"1\" class=\"dataframe\">\n  <thead>\n    <tr style=\"text-align: right;\">\n      <th></th>\n      <th>ds</th>\n      <th>y</th>\n    </tr>\n  </thead>\n  <tbody>\n    <tr>\n      <th>0</th>\n      <td>2017-08-17 04:00:00.000000000</td>\n      <td>4308.83</td>\n    </tr>\n    <tr>\n      <th>1</th>\n      <td>2017-08-17 05:00:00.000000000</td>\n      <td>4315.32</td>\n    </tr>\n    <tr>\n      <th>2</th>\n      <td>2017-08-17 06:00:00.000000000</td>\n      <td>4324.35</td>\n    </tr>\n    <tr>\n      <th>3</th>\n      <td>2017-08-17 07:00:00.000000000</td>\n      <td>4349.99</td>\n    </tr>\n    <tr>\n      <th>4</th>\n      <td>2017-08-17 08:00:00.000000000</td>\n      <td>4360.69</td>\n    </tr>\n    <tr>\n      <th>...</th>\n      <td>...</td>\n      <td>...</td>\n    </tr>\n    <tr>\n      <th>3818</th>\n      <td>2018-01-23 14:00:00.000000000</td>\n      <td>10459.55</td>\n    </tr>\n    <tr>\n      <th>3819</th>\n      <td>2018-01-23 15:00:00.000000000</td>\n      <td>10750.00</td>\n    </tr>\n    <tr>\n      <th>3820</th>\n      <td>2018-01-23 16:00:00.000000000</td>\n      <td>11334.96</td>\n    </tr>\n    <tr>\n      <th>3821</th>\n      <td>2018-01-23 17:00:00.000000000</td>\n      <td>11129.62</td>\n    </tr>\n    <tr>\n      <th>3822</th>\n      <td>2018-01-23 18:00:00.000000000</td>\n      <td>11200.00</td>\n    </tr>\n  </tbody>\n</table>\n<p>3823 rows × 2 columns</p>\n</div>"
     },
     "metadata": {},
     "output_type": "display_data"
    },
    {
     "data": {
      "text/plain": "                      ds          yhat    yhat_lower    yhat_upper\n0    2017-08-17 04:00:00   4030.029631   3118.020800   4962.859533\n1    2017-08-17 05:00:00   4037.794892   3018.715032   5002.740129\n2    2017-08-17 06:00:00   4047.012482   3039.167455   4994.268884\n3    2017-08-17 07:00:00   4048.496424   3055.875110   5016.084385\n4    2017-08-17 08:00:00   4040.285677   3070.222160   4955.090696\n...                  ...           ...           ...           ...\n3819 2018-01-23 15:00:00  11924.647876  10920.414214  12868.424496\n3820 2018-01-23 16:00:00  11916.462161  10895.170731  12905.131766\n3821 2018-01-23 17:00:00  11915.813132  10975.231179  12933.353310\n3822 2018-01-23 18:00:00  11920.487575  10996.720622  12882.170673\n3823 2018-01-24 18:00:00  11866.856426  10915.353707  12861.549463\n\n[3824 rows x 4 columns]",
      "text/html": "<div>\n<style scoped>\n    .dataframe tbody tr th:only-of-type {\n        vertical-align: middle;\n    }\n\n    .dataframe tbody tr th {\n        vertical-align: top;\n    }\n\n    .dataframe thead th {\n        text-align: right;\n    }\n</style>\n<table border=\"1\" class=\"dataframe\">\n  <thead>\n    <tr style=\"text-align: right;\">\n      <th></th>\n      <th>ds</th>\n      <th>yhat</th>\n      <th>yhat_lower</th>\n      <th>yhat_upper</th>\n    </tr>\n  </thead>\n  <tbody>\n    <tr>\n      <th>0</th>\n      <td>2017-08-17 04:00:00</td>\n      <td>4030.029631</td>\n      <td>3118.020800</td>\n      <td>4962.859533</td>\n    </tr>\n    <tr>\n      <th>1</th>\n      <td>2017-08-17 05:00:00</td>\n      <td>4037.794892</td>\n      <td>3018.715032</td>\n      <td>5002.740129</td>\n    </tr>\n    <tr>\n      <th>2</th>\n      <td>2017-08-17 06:00:00</td>\n      <td>4047.012482</td>\n      <td>3039.167455</td>\n      <td>4994.268884</td>\n    </tr>\n    <tr>\n      <th>3</th>\n      <td>2017-08-17 07:00:00</td>\n      <td>4048.496424</td>\n      <td>3055.875110</td>\n      <td>5016.084385</td>\n    </tr>\n    <tr>\n      <th>4</th>\n      <td>2017-08-17 08:00:00</td>\n      <td>4040.285677</td>\n      <td>3070.222160</td>\n      <td>4955.090696</td>\n    </tr>\n    <tr>\n      <th>...</th>\n      <td>...</td>\n      <td>...</td>\n      <td>...</td>\n      <td>...</td>\n    </tr>\n    <tr>\n      <th>3819</th>\n      <td>2018-01-23 15:00:00</td>\n      <td>11924.647876</td>\n      <td>10920.414214</td>\n      <td>12868.424496</td>\n    </tr>\n    <tr>\n      <th>3820</th>\n      <td>2018-01-23 16:00:00</td>\n      <td>11916.462161</td>\n      <td>10895.170731</td>\n      <td>12905.131766</td>\n    </tr>\n    <tr>\n      <th>3821</th>\n      <td>2018-01-23 17:00:00</td>\n      <td>11915.813132</td>\n      <td>10975.231179</td>\n      <td>12933.353310</td>\n    </tr>\n    <tr>\n      <th>3822</th>\n      <td>2018-01-23 18:00:00</td>\n      <td>11920.487575</td>\n      <td>10996.720622</td>\n      <td>12882.170673</td>\n    </tr>\n    <tr>\n      <th>3823</th>\n      <td>2018-01-24 18:00:00</td>\n      <td>11866.856426</td>\n      <td>10915.353707</td>\n      <td>12861.549463</td>\n    </tr>\n  </tbody>\n</table>\n<p>3824 rows × 4 columns</p>\n</div>"
     },
     "metadata": {},
     "output_type": "display_data"
    }
   ],
   "source": [
    "\n",
    "train_df = df.loc[:MARGIN]\n",
    "\n",
    "model = Prophet()\n",
    "\n",
    "# initial fit\n",
    "model.fit(train_df)\n",
    "\n",
    "\n",
    "future = model.make_future_dataframe(periods=1)\n",
    "forecast = model.predict(future)\n",
    "\n",
    "display(train_df)\n",
    "display(forecast[['ds', 'yhat', 'yhat_lower', 'yhat_upper']])"
   ],
   "metadata": {
    "collapsed": false,
    "pycharm": {
     "name": "#%%\n"
    }
   }
  },
  {
   "cell_type": "code",
   "execution_count": 14,
   "outputs": [
    {
     "data": {
      "text/plain": "Index(['ds', 'trend', 'yhat_lower', 'yhat_upper', 'trend_lower', 'trend_upper',\n       'additive_terms', 'additive_terms_lower', 'additive_terms_upper',\n       'daily', 'daily_lower', 'daily_upper', 'weekly', 'weekly_lower',\n       'weekly_upper', 'multiplicative_terms', 'multiplicative_terms_lower',\n       'multiplicative_terms_upper', 'yhat'],\n      dtype='object')"
     },
     "execution_count": 14,
     "metadata": {},
     "output_type": "execute_result"
    }
   ],
   "source": [
    "forecast.columns"
   ],
   "metadata": {
    "collapsed": false,
    "pycharm": {
     "name": "#%%\n"
    }
   }
  },
  {
   "cell_type": "code",
   "execution_count": null,
   "outputs": [],
   "source": [
    "def plot_tests(train, forcast):\n",
    "    fig = plt.figure()\n",
    "    times = forcast[]\n",
    "    plt.plot()"
   ],
   "metadata": {
    "collapsed": false,
    "pycharm": {
     "name": "#%%\n"
    }
   }
  }
 ],
 "metadata": {
  "kernelspec": {
   "display_name": "Python 3",
   "language": "python",
   "name": "python3"
  },
  "language_info": {
   "codemirror_mode": {
    "name": "ipython",
    "version": 2
   },
   "file_extension": ".py",
   "mimetype": "text/x-python",
   "name": "python",
   "nbconvert_exporter": "python",
   "pygments_lexer": "ipython2",
   "version": "2.7.6"
  }
 },
 "nbformat": 4,
 "nbformat_minor": 0
}